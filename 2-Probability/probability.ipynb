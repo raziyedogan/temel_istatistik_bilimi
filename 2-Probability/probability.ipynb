{
 "cells": [
  {
   "cell_type": "markdown",
   "id": "22dd8a5b",
   "metadata": {},
   "source": [
    "## Probability \n",
    "\n",
    "Bu bölümde öğrenilenler şu şekilde olacaktır:\n",
    "\n",
    "Probability Nedir?\n",
    "\n",
    "Permutation (Permutasyon)\n",
    "\n",
    "Combination (Kombinasyon)\n",
    "\n",
    "Intersection, Unions and Complements (Kesişim, Birleşim ve Tamamlayıcı)\n",
    "\n",
    "Independent and Dependent Events (Bağımsız ve Bağımlı Olaylar)\n",
    "\n",
    "Conditional Probability (Şartlı olasılık)\n",
    "\n",
    "Bayes Theorem (Bayes teoremi)"
   ]
  },
  {
   "cell_type": "markdown",
   "id": "f9c7d5a8",
   "metadata": {},
   "source": [
    "### Probability Nedir?\n",
    "\n",
    "Olasılık bir şeyin olmasının veya olmamasının matematiksel değeri veya olabilirlik yüzdesi, değeridir.\n",
    "\n",
    "Probability 0 ve 1 arasında değerler alabilir. 1 değeri olayın kesin olduğunu ve 0 değeri ise olayın gerçekleşmediğini ifade eder.\n",
    "\n",
    "1 olayın kesin olduğunu 0 ise olayın gerçekleşmediğini gösterir.\n",
    "\n",
    "Bir paranın yazı gelme olasılığı 0.5 dir. P(para_yazı) = 0.5 şeklinde gösterilir.\n",
    "\n",
    "Parayı yazı mı turamı diyerek havaya atmaya trial(deneme) denir. \n",
    "\n",
    "Bu trial olayları birbirinde independent olaylardır. Yani birbirinden bağımsıdır. Mesela 5 kez zar atıyoruz. Atılan ilk 4 zarın hiçbir şekilde atılan son zara bir etkisi olmayacaktır. Dolayısıyla trial'lar birbirinden bağımsız olaylardır.\n",
    "\n",
    "Experiment: her bir trial olayı experiment olarak adlandırılır.\n",
    "\n",
    "Simple event: Ortaya çıkabilecek sonuçlar yani yazı yada tura simple event olarak adlandırılır.\n",
    "\n",
    "Sample Space: tüm olabilecek simple event'lerin toplamıdır.\n",
    "\n",
    "Örneğin:\n",
    "\n",
    "    Mesela bir zar atalım.\n",
    "    \n",
    "    Zarı atmak experiment\n",
    "    \n",
    "    Simple events zarı atmanın sonucunda ortaya çıkabilecek sonuçlar 1,2,3,4,5,6 değerleri.\n",
    "    \n",
    "    Sample space => S = {1,2,3,4,5,6} 6 possible outcomes"
   ]
  },
  {
   "cell_type": "markdown",
   "id": "dda8b480",
   "metadata": {},
   "source": [
    "### Permutation (Permutasyon)\n",
    "\n",
    "Matematikte permütasyon, her sembolün sadece bir veya birkaç kez kullanıldığı sıralı bir dizidir.\n",
    "\n",
    "Mesela 3 tane öğrenci olsun: ali, veli ve ayşe\n",
    "\n",
    "Bu üç öğrenciyi kaç farklı şekilde yan yana sıralarız? 3! = 3.2.1 = 6\n",
    "\n",
    "    ali, veli, ayşe\n",
    "\n",
    "    ali, ayşe, veli\n",
    "\n",
    "    veli, ayşe, ali\n",
    "\n",
    "    veli, ali, ayşe\n",
    "\n",
    "    ayşe, veli, ali\n",
    "\n",
    "    ayşe, ali, veli\n",
    "\n",
    "n elemanlık bir kümenin permutasyonu n!\n",
    "\n",
    "n elemanlık bir kümenin r alana permutasyonu  (tekrarlamak yasak) nedir?\n",
    "\n",
    "Şu formül ile hesaplanabilir:\n",
    "\n",
    "<br>\n",
    "<img src=\"p1.png\" align = \"left\" style=\"width:200px;height:100px\"/>"
   ]
  },
  {
   "cell_type": "markdown",
   "id": "472e2a49",
   "metadata": {},
   "source": [
    "Örnek:\n",
    "\n",
    "    Bir web sitesine üye olacaksınız ve 5 karakterli bir şifre belirleyeceksiniz.\n",
    "\n",
    "    Karakterler küçük harf olmak zorunda yada 0-9 arası sayılar olabilir.\n",
    "\n",
    "    Kullanılan bir karakter yada sayıyı tekrar kullanmak yoktur.\n",
    "\n",
    "    Bu durumda kaç farklı şifre yaratabilirsiniz?\n",
    "\n",
    "        n = 29(harf) + 10(sayılar) = 39\n",
    "\n",
    "        r = 5 (5 tane boş alan olduğu için r=5'tir.)\n",
    "\n",
    "        P = 39! / (39-5)! = 39! / (34!)\n",
    "        \n",
    "Bu işlemleri gerçekleştiren kodu yazalım."
   ]
  },
  {
   "cell_type": "code",
   "execution_count": 1,
   "id": "1bc81017",
   "metadata": {},
   "outputs": [
    {
     "name": "stdout",
     "output_type": "stream",
     "text": [
      "69090840\n"
     ]
    }
   ],
   "source": [
    "import math\n",
    "pay = math.factorial(39)\n",
    "payda = math.factorial(34)\n",
    "P = int(pay / payda)\n",
    "print(P)"
   ]
  },
  {
   "cell_type": "markdown",
   "id": "b7cd8a8e",
   "metadata": {},
   "source": [
    "5 haneli bir şifre oluşturmamız 69090840 farklı şekilde olabilir. Bir insanın şifresini bulmamız için 69090840 kere deneme yapmamız gerekecektir.\n",
    "\n",
    "<br>\n",
    "<img src=\"p2.png\" align = \"left\" style=\"width:200px;height:100px\"/>"
   ]
  },
  {
   "cell_type": "markdown",
   "id": "256b4fb6",
   "metadata": {},
   "source": [
    "Yukarıda ki görseli açıklayayım. Toplamda 39 karakter bulunmaktadır. Bir karakter sadece 1 defa kullanılabilir. Dolayısıyla ilk karakterde 39 seçenek vardır. Sonrasında ilk karakterde kullanılan karakter dışlanır ve geriye 38 karakter kalır. 5 adet karakter yazılacağından 39.38.37.36.35 = 69090840 elde edilir. Yani aslında P(n,r) = n! / (n-r)! formülü bu işlemi yapmaktadır. \n",
    "\n",
    "Eger kullanılan bir karakter tekrar kullanılmaya izin verilseydi:\n",
    "\n",
    "<br>\n",
    "<img src=\"p3.png\" align = \"left\" style=\"width:100px;height:70px\"/><br><br><br><br><br>\n",
    "\n",
    "formülü gerçekleştirilirdi. Yani:"
   ]
  },
  {
   "cell_type": "markdown",
   "id": "b869d8d6",
   "metadata": {},
   "source": [
    "<br>\n",
    "<img src=\"p4.png\" align = \"left\" style=\"width:200px;height:100px\"/>"
   ]
  },
  {
   "cell_type": "markdown",
   "id": "9de7b29d",
   "metadata": {},
   "source": [
    "Kullanılan bir karakter istenilen adette kullanılabileceğinden her defasında 39 karakter seçeneği olacaktır. Dolayısıyla 39*39*39*39*39 olur ve buda 39^5 e eşittir."
   ]
  },
  {
   "cell_type": "code",
   "execution_count": 2,
   "id": "4946b95d",
   "metadata": {},
   "outputs": [
    {
     "data": {
      "text/plain": [
       "90224199"
      ]
     },
     "execution_count": 2,
     "metadata": {},
     "output_type": "execute_result"
    }
   ],
   "source": [
    "# eger kullanılan bir karakter tekrar kullanılmaya izin verilseydi P = n^r\n",
    "39**5"
   ]
  },
  {
   "cell_type": "markdown",
   "id": "1da18b3f",
   "metadata": {},
   "source": [
    "Bir karakterin istenen adette kullanılabilmesi durumunda 90224199 adet farklı şifre oluşturulabilir.\n",
    "\n",
    "3 farklı pantolon, 4 farklı ceket ve 2 farklı gömleği olan kişi bir ceket bir gömlek ve bir pantolonu kaç farklı şekilde giyebilir?\n",
    "\n",
    "    P = 3.4.2 = 24 \n",
    "\n",
    "    yada formule göre: 3! / (3-1)! * 4! / (4-1)! * 2! / (2-1)! = 24"
   ]
  },
  {
   "cell_type": "markdown",
   "id": "d1a5c807",
   "metadata": {},
   "source": [
    "### Combination (Kombinasyon)\n",
    "\n",
    "Kombinasyon, bir nesne grubu içerisinden sıra gözetmeksizin yapılan seçimlerdir.\n",
    "\n",
    "Mesela 5 kişilik bir takımdan 2 kişi seçmek istiyoruz. Sıra gözetmeksizin 5 kişinden 2 kişi seçeriz.\n",
    "\n",
    "<br>\n",
    "<img src=\"p5.png\" align = \"left\" style=\"width:200px;height:100px\"/>"
   ]
  },
  {
   "cell_type": "markdown",
   "id": "ae5ed6b8",
   "metadata": {},
   "source": [
    "n = 5 ve r = 2 sonuç: 10 farklı şekilde seçeriz."
   ]
  },
  {
   "cell_type": "markdown",
   "id": "8b33a8a3",
   "metadata": {},
   "source": [
    "### Permutation vs Combination\n",
    "\n",
    "Üç öğrenci: ali, veli ve ayşe. Sıralamak demek permutation'dur. İçinden öğrenci seçmek combination demektir.\n",
    "\n",
    "Mesela 3 öğrenciyi 2 yere sıralayalım. 6 farklı şekilde yaparız.\n",
    "\n",
    "    ali, veli\n",
    "\n",
    "    ali, ayşe\n",
    "\n",
    "    veli, ayşe\n",
    "\n",
    "    veli, ali\n",
    "\n",
    "    ayşe, veli\n",
    "\n",
    "    ayşe, ali\n",
    "    \n",
    "Bu üç öğrenciden 2 öğrenci seçelim. Sonuç 3 çıkar Gördüğünüz gibi sıralamada ali, ayşe var aynı zamanda ayşe, ali var. Bu durum sıralama için farklı olsada seçme yani combination için aynı durumlardır.\n",
    "\n",
    "p(3,2) = 3! / 1! = 6\n",
    "\n",
    "c(3,2) = 3! / (1!*2!) = 3"
   ]
  },
  {
   "cell_type": "markdown",
   "id": "abea5b57",
   "metadata": {},
   "source": [
    "### Intersection, Unions and Complements (Kesişim, Birleşim ve Tamamlayıcı)\n",
    "\n",
    "Intersection(Kesişim): iki olayın aynı anda olmasıdır. A ve B\n",
    "\n",
    "Unions(Birleşim): iki olayın ikisinden birinin olmasıdır. A or B\n",
    "\n",
    "<br>\n",
    "<img src=\"p6.png\" align = \"left\" style=\"width:500px;height:600px\"/>"
   ]
  },
  {
   "cell_type": "markdown",
   "id": "247485d9",
   "metadata": {},
   "source": [
    "disjoint: Kesişim olmadığını ifade eder."
   ]
  },
  {
   "cell_type": "markdown",
   "id": "28870480",
   "metadata": {},
   "source": [
    "### Independent and Dependent Events (Bağımsız ve Bağımlı Olaylar)\n",
    "\n",
    "Independent(Bağımsız) Events:\n",
    "\n",
    "İki olay birbirinden bağımsızdır. Yani bir event'in sonucu öbürünü etkilememektedir.\n",
    "\n",
    "Mesela 5 kez zar atılacaktır. İlk 4 zar atma olayı gerçekleştirilmiştir. 5. zar atılınca sonucun 3 gelme olasılığı nedir? \n",
    "Cevap 1/6. \n",
    "\n",
    "Daha önceden atılan 4 zar 5. atılan zar ile hiç alakalı değildir. Yani bu olaylar birbiri ile independent'tir.\n",
    "\n",
    "Dependent(Bağımlı) Events:\n",
    "\n",
    "İki olay birbiri ile alakalıdır.\n",
    "\n",
    "Mesela bir çanta olsun içerisinde 2 tane kırmızı 2 tane mavi top var.\n",
    "\n",
    "Çanta içinden ard arda 2 kez top çekeceğim. 2. topun kırmızı olma olasılığı nedir?\n",
    "\n",
    "Bu durumda çantadan top çekme olayları dependent'tir. Çünkü eğer ilk seferde kırmızı çekersem çantada 2 mavi 1 kırmızı kalır. Eğer ilk seferde mavi çekersem çantada 1 mavi 2 kırmızı kalır.\n",
    "\n",
    "İndependent ve dependent durumları önemlidir çünkü bu durumları feature'ler arasında değerlendireceğiz."
   ]
  },
  {
   "cell_type": "markdown",
   "id": "e7aed42d",
   "metadata": {},
   "source": [
    "### Conditional Probability (Şartlı olasılık)\n",
    "\n",
    "Conditional Probability: Probability of event A given B. Bu ifade şu şekilde gösterilmektedir:\n",
    "\n",
    "P(A|B)\n",
    "\n",
    "B event'inin olma olasılığı A'ya bağlıdır. \n",
    "\n",
    "Örnek: Bir zar atıldığında üste gelen sayının 2 den büyük olduğu bilindiğine göre, zarın üst yüzüne gelen sayının çift sayı olma olasılığı kaçtır?\n",
    "\n",
    "E = {1,2,3,4,5,6}\n",
    "\n",
    "2 den büyük olma şartı (condition) B = {3,4,5,6}\n",
    "\n",
    "B koşulu sağlandıktan sonra B kümesi içerisindeki çift olan sayılar {4,6}\n",
    "\n",
    "Sonuç: (2/6) / (4/6) =  1/2\n",
    "\n",
    "Burada P(A and B) = A ve B nin kesişimi {4,6} şeklindedir. Toplamda da 6 sayı var. 2/6'dır. \n",
    "\n",
    "P(B): B={3,4,5,6} dır ve 4 tane sayı vardır. Toplamda 6 sayı vardır. Dolayısıyla P(B)=4/6 dır.\n",
    "\n",
    "<br>\n",
    "<img src=\"p7.png\" align = \"left\" style=\"width:300px;height:100px\"/>"
   ]
  },
  {
   "cell_type": "markdown",
   "id": "b53bb0b6",
   "metadata": {},
   "source": [
    "E = {1,2,3,4,5,6}\n",
    "B = {3,4,5,6}\n",
    "A = {2,4,6}\n",
    "\n",
    "Örnek:\n",
    "\n",
    "52 lik bir oyun kartı destesini karıştırıyoruz. Karıştırdıktan sonra kapalı bir şekilde masaya koyuyoruz. Sonra en üstten iki tane kart çekiyoruz ikisininde sinek gelme olasılığı nedir?\n",
    "\n",
    "52/4 = 13 tane sinek kartı vardır.\n",
    "\n",
    "P(sinek2| sinek1) = P(sinek1 ∩ sinek2) / P(sinek1)\n",
    "\n",
    "P(sinek1) * P(sinek2| sinek1) = P(sinek1 ∩ sinek2) = 13/52 · 12/51 = 0.0588"
   ]
  },
  {
   "cell_type": "markdown",
   "id": "955dd054",
   "metadata": {},
   "source": [
    "### Bayes Theorem (Bayes teoremi)\n",
    "\n",
    "<br>\n",
    "<img src=\"p8.png\" align = \"left\" style=\"width:500px;height:300px\"/>"
   ]
  },
  {
   "cell_type": "markdown",
   "id": "c76fd2cd",
   "metadata": {},
   "source": [
    "P(A|B) = B olayı gerçekleştiğinde A olayının gerçekleşme olasılığı\n",
    "\n",
    "P(A) = A olayının gerçekleşme olasılığı\n",
    "\n",
    "P(B|A) = A olayı gerçekleştiğinde B olayının gerçekleşme olasılığı\n",
    "\n",
    "P(B) = B olayının gerçekleşme olasılığı\n",
    "\n",
    "Şimdi bu formulün nasıl çıktığına bakalım\n",
    "\n",
    "    P(A|B) = P(A and B) / P(B)\n",
    "\n",
    "    P(B|A) = P(B and A) / P(A)\n",
    "\n",
    "    P(A and B) = P(B and A)\n",
    "\n",
    "    P(A|B).P(B)=P(B|A).P(A)\n",
    "\n",
    "    P(A|B) = P(B|A) . P(A) / P(B)\n",
    "\n",
    "Örnek:\n",
    "\n",
    "Bir okul var. Bu okulda 50 tane çocuk olsun. Bu 50 çocuktan 1 tanesi x hastalığına yakalanabilir. x hastalığına sahip hastalıklı bir çocuğun testi %90 pozitif, sağlıklı bir çocuğun testi ise %10 pozitif sonuç verebilir. Test sonucu pozitif olan bir çocuğun gerçekten x hastalığına sahip olma olasılığı nedir?\n",
    "\n",
    "    P(A) : Çocuğun hasta olması olasılığı = 1/50\n",
    "    \n",
    "    P(B) : Testin pozitif çıkması olasılığı = 1/50 0.90 + 49/50 0.10 = 0.116\n",
    "    \n",
    "    P(A|B) : Pozitif çıkan testin hastalık çıkma olasılığı ?\n",
    "\n",
    "    P(B|A) : x hastalığına sahip çocuğun testinin pozitif çıkma olasılığı = 0.9\n",
    "    \n",
    "    P(A|B)=P(B|A)P(A)/P(B) => (0.9 1/50) / (0.116) = %15\n",
    "\n",
    "<font color=\"Chocolate\"><br>\n",
    "https://github.com/raziyedogan/IntroductionToMachineLearning/blob/main/Naive-Bayes/NaiveBayes.ipynb ve https://github.com/raziyedogan/MachineLearning/blob/main/14-NaiveBayes/NaiveBayes.ipynb linklerinden machine learning kısmında Bayes teoremine dair detaylı bir anlatım bulunmaktadır. Buradan da bu konuyu inceleyebilirsiniz."
   ]
  }
 ],
 "metadata": {
  "kernelspec": {
   "display_name": "Python 3 (ipykernel)",
   "language": "python",
   "name": "python3"
  },
  "language_info": {
   "codemirror_mode": {
    "name": "ipython",
    "version": 3
   },
   "file_extension": ".py",
   "mimetype": "text/x-python",
   "name": "python",
   "nbconvert_exporter": "python",
   "pygments_lexer": "ipython3",
   "version": "3.9.12"
  }
 },
 "nbformat": 4,
 "nbformat_minor": 5
}
