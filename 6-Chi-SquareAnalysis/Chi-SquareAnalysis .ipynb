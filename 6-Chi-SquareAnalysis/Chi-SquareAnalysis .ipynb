{
 "cells": [
  {
   "cell_type": "markdown",
   "id": "6c826ba0",
   "metadata": {},
   "source": [
    "## Chi-Square Analysis \n",
    "\n",
    "### Chi-Square Analysis Nedir?\n",
    "\n",
    "İki tane önemli kavram var. \n",
    "\n",
    "    Observed: Gözlemlediğimiz şeylerdir.\n",
    "    \n",
    "    Expected: Beklediğimiz şeylerdir.\n",
    "\n",
    "Gözlenen ve beklenen frekanslar arasındaki farkın anlamlı olup olmadığını test etmek için kullanılır.\n",
    "\n",
    "Mesela bir örnek verelim.\n",
    "\n",
    "    Havaya 10 kere para atıyoruz.\n",
    "\n",
    "    9 kere yazı ve 1 kere tura geliyor.\n",
    "\n",
    "    Sorumuz şu: 9 kere yazı gelmesi şans mı yok sa bu para yazıya eğilimli mi? yani biaslanmış mı (hileli olarak da düşünübilirsiniz)? \n",
    "\n",
    "    Null hypothesis: Adil bir para için 10 atıştan 9 kere yazı gelmesi istatistiksel olarak %95 olasılık ile mantıklıdır.(confidence level 0.05)\n",
    "    \n",
    "Chi-Square, x^2 sembolü ile gösterilmektedir. \n",
    "\n",
    "Chi-Square:\n",
    "\n",
    "<br>\n",
    "<img src=\"a1.png\" align = \"left\" style=\"width:400px;height:200px\"/>"
   ]
  },
  {
   "cell_type": "markdown",
   "id": "19c71ffb",
   "metadata": {},
   "source": [
    "Bizim örneğimizde yazı için:\n",
    "\n",
    "    expected frequency = 5'tir. Çünkü adaletli bir zar ise dengeli olarak 5 adet yazı, 5 adet tura gelmesi beklenir.\n",
    "\n",
    "    observed frequency = 9'dur. Çünkü \"9 kere yazı ve 1 kere tura geliyor.\" bilgisi verilmiştir.\n",
    "\n",
    "Tura için ise:\n",
    "\n",
    "    expected frequency = 5\n",
    "    \n",
    "    observed frequency = 1'dir. Çünkü \"9 kere yazı ve 1 kere tura geliyor.\" bilgisi verilmiştir.\n",
    "    \n",
    "<br>\n",
    "<img src=\"a2.png\" style=\"width:400px;height:100px\"/>\n",
    "\n",
    "artı (+) sembolünün sağ tarafındaki tura içindir, sol tarafındaki yazı içindir. Bu işlem sonucunda chi square value = 6.4 'tür.\n",
    "\n",
    "<br>\n",
    "<img src=\"a3.png\" style=\"width:600px;height:400px\"/>\n",
    "\n",
    "Degrees of freedom: number of possible outcomes - 1 (yazı tura şeklinde 2 tane outcome, sonuç vardır.)\n",
    "\n",
    "Degrees of freedom zar atma örneğinde 2 - 1 = 1  (Mesela eğer zar atma problemi olsaydı 6-1=5 olurdu)\n",
    "\n",
    "<br>\n",
    "<img src=\"a4.png\" style=\"width:600px;height:600px\"/>\n",
    "\n",
    "❗Eğer chi-square value critical value'dan küçükse observation ve expected değerler arasında high correlation vardır.\n",
    "\n",
    "6.4 > 3.8 yani reject null hypothesis'dir."
   ]
  },
  {
   "cell_type": "markdown",
   "id": "b27b2d8c",
   "metadata": {},
   "source": [
    "### Chi-Square Analysis Örnek\n",
    "\n",
    "Bir internet kafemiz var.\n",
    "\n",
    "Burada 7 tane bilgisayar var.\n",
    "\n",
    "Bu 7 bilgisayarın çökme olasılığı birbiri ile aynıdır.\n",
    "\n",
    "Yani expected = failure rate should be same for all computers\n",
    "\n",
    "Bilgisayarlar birbiri ile independent.\n",
    "\n",
    "Observations: 1. bilgisayar 5 kere çökmüştür. 2. bilgisayar 7 kere çökmüştür. 3. bilgisayar 9 kere çökmüştür. 4.bilgisayar 4 kere çökmüştür. 5.bilgisayar 1 kere çökmüştür. 6. bilgisayar 10 kere çökmüştür. 7.bilgisayar 6 kere çökmüştür.\n",
    "\n",
    "SORU: Bilgisayarların çökme sayıları tesadüf müdür, değil midir?\n",
    "\n",
    "Null hypothesis = observation değerlerinin bu şekilde çıkması istatistiksel olarak %95 olasılık ile mantıklıdır (uygundur,doğrudur).\n",
    "\n",
    "Toplam çökme 42'dir.\n",
    "\n",
    "Expected value = 42 / 7 = 6\n",
    "\n",
    "degrees of freedom = 7 - 1 = 6\n",
    "\n",
    "12.5 > 9.3 fail to reject null hypothesis\n",
    "\n",
    "Şimdi bu işlemleri koda dökelim."
   ]
  },
  {
   "cell_type": "code",
   "execution_count": 2,
   "id": "2756c370",
   "metadata": {},
   "outputs": [
    {
     "name": "stdout",
     "output_type": "stream",
     "text": [
      "total:  42\n",
      "expected:  6.0\n",
      "chi_value:  9.333333333333334\n"
     ]
    }
   ],
   "source": [
    "import numpy as np\n",
    "observation = np.array([5,7,9,4,1,10,6])\n",
    "print(\"total: \",np.sum(observation))  #toplam çökme\n",
    "expected = np.sum(observation)/ len(observation)\n",
    "print(\"expected: \",expected)\n",
    "chi_value = np.sum(((observation - expected)**2)/expected)\n",
    "print(\"chi_value: \",chi_value)"
   ]
  },
  {
   "cell_type": "code",
   "execution_count": 3,
   "id": "5985ae90",
   "metadata": {},
   "outputs": [
    {
     "name": "stdout",
     "output_type": "stream",
     "text": [
      "critical value:  12.59158724374398\n"
     ]
    }
   ],
   "source": [
    "from scipy.stats import chi2\n",
    "print(\"critical value: \", chi2.isf(0.05,6))"
   ]
  }
 ],
 "metadata": {
  "kernelspec": {
   "display_name": "Python 3 (ipykernel)",
   "language": "python",
   "name": "python3"
  },
  "language_info": {
   "codemirror_mode": {
    "name": "ipython",
    "version": 3
   },
   "file_extension": ".py",
   "mimetype": "text/x-python",
   "name": "python",
   "nbconvert_exporter": "python",
   "pygments_lexer": "ipython3",
   "version": "3.9.12"
  }
 },
 "nbformat": 4,
 "nbformat_minor": 5
}
