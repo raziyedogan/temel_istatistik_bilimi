{
 "cells": [
  {
   "cell_type": "markdown",
   "id": "6794561d",
   "metadata": {},
   "source": [
    "## İSTATİSTİK\n",
    "\n",
    "Bu bölümde öğreneceklerimiz:\n",
    "\n",
    "Sampling (Örnekleme)\n",
    "\n",
    "Central Limit Theorem (Merkezi Limit Teoremi)\n",
    "\n",
    "Standard Error\n",
    "\n",
    "Hypothesis Testing\n",
    "\n",
    "Hypothesis Testing Real-World Örneği 1\n",
    "\n",
    "Hypothesis Testing Real-World Örneği 2\n",
    "\n",
    "Type 1 ve Type 2 Errors\n",
    "\n",
    "T-Distribution\n",
    "\n",
    "A/B Test\n",
    "\n",
    "### Sampling (Örnekleme)\n",
    "\n",
    "Sampling büyük bir gruptan rastgele bireyler seçerek küçük bir grup oluşturmaktır.\n",
    "\n",
    "Burada önemli olan bir yere bias'lanmadan sampling yapabilmektir.\n",
    "\n",
    "Bias ne demek? Mesela bir maç sonucu tahmini yapmak istiyoruz. Galatasaray - Fenerbahçe Maçı var. İlk önce kendimiz gidip sampling yaparak bir grup oluşurmak zorundayız. Eğer bizim sub grubumuzun member'larını sadece Galatasaray taraftarından seçersek biz bias'lanmış oluruz. Bias eğilim demek. Böylece istatistiksel analiz sonucumuz Galatasaray eğilimli bir sonuç verir.\n",
    "\n",
    "Sampling Types:\n",
    "\n",
    "Random Sampling:\n",
    "\n",
    "    Bir grup içinden rastgele seçim yapmaktır.\n",
    "    \n",
    "    Örneğin, bir futbol maçında forma rengine bakmadan rastgele seyirci seçmek.\n",
    "\n",
    "Stratified(katmanlı) Random Sampling:\n",
    "\n",
    "    İlk önce belirli bir karakteristiğe göre büyük grubu segment'lere ayır. Daha sonra bu segmentler içerisinden seç.\n",
    "\n",
    "    Örneğin, bir futbol maçında ilk önce seyirciyi takımlarına göre segment'lere ayırıp daha sonra seçim yapmak. Daha sonra gruplardan random seçmek.\n",
    "\n",
    "Cluster Sampling:\n",
    "\n",
    "    Bir populasyonu birden fazla küçük gruba bölerek grup seçmektir.\n",
    "\n",
    "    Mesela öğrenci başarısı araştırması yapılmak isteniliyor. Tüm population yani Türkiye farklı cluster'lara bölünüyor yani şehirlere daha sonra bu clusterlardan bazıları seçilerek araştırma yapılıyor.\n",
    "    \n",
    "Stratified vs. Cluster:\n",
    "\n",
    "Stratified'te az sayıda gruplara bölüm yapılır. Cluster'da ise çok fazla grup sayısı olur.\n",
    "\n",
    "Stratified'te gruplar içerisinde homojen bir dağılım vardır. Cluster'da gruplar içerisinde heterojen dağılım vardır.\n",
    "\n",
    "Stratified'te gruplar arasında heterojenlik vardır. Cluster'da gruplar arasında homojenlik vardır.\n",
    "\n",
    "### Central Limit Theorem (Merkezi Limit Teoremi)\n",
    "\n",
    "Merkezi limit teoremi büyük bir sayıda olan bağımsız ve aynı dağılım gösteren rassal değişkenlerin aritmetik ortalamasının, yaklaşık olarak normal dağılım göstereceğini ifade eden bir teoremdir.\n",
    "\n",
    "Mean value from a sub group will be normally distributed about the population mean.\n",
    "\n",
    "<br>\n",
    "<img src=\"p1.png\" align = \"left\" style=\"width:500px;height:300px\"/>"
   ]
  },
  {
   "cell_type": "markdown",
   "id": "484442a5",
   "metadata": {},
   "source": [
    "Grafikte gördüğünüz siyah line popülasyondur. Büyük grubu sub sample yani gruplama yaptığımız zaman normal distribution'u elde ederiz.\n",
    "\n",
    "Popülasyondan rastgele sampling yaparsak yani sub grubu oluşturursak, bu popülasyonun tam ortasında gaussian distribution yapıyor. Yani x değerlerinin ortalaması yukarıda gördüğünüz kısmızı alanın içerisinde dağılıyor.\n",
    "\n",
    "Bu teoremi denemek için kod yazalım."
   ]
  },
  {
   "cell_type": "code",
   "execution_count": 1,
   "id": "9369b6e1",
   "metadata": {},
   "outputs": [
    {
     "name": "stderr",
     "output_type": "stream",
     "text": [
      "C:\\Users\\raziy\\AppData\\Local\\Temp\\ipykernel_3756\\2033070511.py:4: DeprecationWarning: This function is deprecated. Please call randint(1, 10 + 1) instead\n",
      "  x = np.random.random_integers(10,size=100000)\n"
     ]
    },
    {
     "data": {
      "image/png": "[encoded data removed]",
      "text/plain": [
       "<Figure size 640x480 with 1 Axes>"
      ]
     },
     "metadata": {},
     "output_type": "display_data"
    }
   ],
   "source": [
    "import numpy as np\n",
    "import matplotlib.pyplot as plt\n",
    "\n",
    "x = np.random.random_integers(10,size=100000)\n",
    "plt.hist(x)\n",
    "plt.show()"
   ]
  },
  {
   "cell_type": "markdown",
   "id": "6d29a41e",
   "metadata": {},
   "source": [
    "x = np.random.random_integers(10,size=100000) satırında 1'den 10'a kadar olan sayılardan 100000 tane uniform distribution yapılmıştır.\n",
    "\n",
    "Yukarıdaki şekilde ortalama 5.5'tir. Teorem diyor ki, bunun içinden rastgele sample'ler alıcam ve aldığımız sample'ler normal population'un ortalamasında gaussian dağılım yapacaktır. Bu işlemin kodunu yapalım."
   ]
  },
  {
   "cell_type": "code",
   "execution_count": 2,
   "id": "790fe07d",
   "metadata": {},
   "outputs": [
    {
     "data": {
      "image/png": "[encoded data removed]",
      "text/plain": [
       "<Figure size 640x480 with 1 Axes>"
      ]
     },
     "metadata": {},
     "output_type": "display_data"
    }
   ],
   "source": [
    "import random\n",
    "mean_sample = []\n",
    "for i in range(10000):  #10000 tane sample popülasyon içerisinden rastgele alınmıştır.\n",
    "    sample = random.randrange(5,10)\n",
    "    mean_sample.append(np.mean(random.sample(list(x),sample)))\n",
    "plt.hist(mean_sample,bins = 50, color = \"red\")\n",
    "plt.show()"
   ]
  },
  {
   "cell_type": "markdown",
   "id": "3627a5d5",
   "metadata": {},
   "source": [
    "Gaussian distribution elde ettiğimiz zaman popülasyonla ilgili genellemeler yapabiliyoruz.\n",
    "\n",
    "Central Limit Theorem kullanarak popülasyon hakkında genel istatistiksel değerlere sahip olabiliriz.\n",
    "\n",
    "### Standard Error\n",
    "\n",
    "Standart hata bir sınamada seçilebilecek tüm örneklemlerden sadece bir tanesine dayalı kestirimlerin içerdiği hata oranıdır.\n",
    "\n",
    "N = populationda ki birey sayısı\n",
    "\n",
    "P = population parameter\n",
    "\n",
    "sigma = population standard deviation\n",
    "\n",
    "n = sampling yaptıktan sonra sub-grupta ki birey sayısı\n",
    "\n",
    "p = sample statistic\n",
    "\n",
    "SE = standart error of sample\n",
    "\n",
    "<br>\n",
    "<img src=\"p2.png\" align = \"left\" style=\"width:100px;height:50px\"/>"
   ]
  },
  {
   "cell_type": "markdown",
   "id": "a08ed477",
   "metadata": {},
   "source": [
    "\n",
    "Örnek yapalım:\n",
    "\n",
    "Bir populasyonun IQ seviyesi gaussian distribution şeklinde olsun.\n",
    "\n",
    "    Mean = 100 ve std = 15\n",
    "\n",
    "Elimizde 10 farklı kişi var ve IQ ortalaması 104. Biz bu 10 kişi için populasyonumuzun bireyleri diyebilir miyiz?\n",
    "\n",
    "n = 10, x = 104\n",
    "\n",
    "SE = 15/root(10) = 4.7\n",
    "\n",
    "Bu sonuca göre diyebiliriz ki 10 bireyin IQ'su 68% olasılıkla 100-4.7=95.3 ve 100+4.7=104.7 arasındadır. Buradaki 100, mean değeridir.\n",
    "\n",
    "### Hypothesis Testing\n",
    "\n",
    "Hypothesis Testing, istatistiksel metotların real-world (gerçek dünya) problemlerine uygulanmasıdır.\n",
    "\n",
    "Null Hypothesis mesela dünya düzdür. Bu hipotez ya reject yada fail to reject olur.\n",
    "\n",
    "Hypothesis Testing'te 2 tane önemli kavram var:\n",
    "\n",
    "    reject: reddetmek. Hipotezin yanlış olduğunu ispatlamaktır.\n",
    "\n",
    "    fail to reject: reddetmemek. Hipotezin yanlış olduğunu ispatlayamamaktır.\n",
    "    \n",
    "Hypothesis Testing, doğru bir şeyi kanıtlamaktansa bir tane hipotez ortaya atıyoruz ve bunun çürük, yanlış olduğunu ispatlamaya çalışıyoruz.\n",
    "\n",
    "Bir tane alternate hypothesis oluştururuz. Eğer null hypothesis reject edilirse otomatik olarak altenarte hypothesis doğrudur. Mesela dünya yuvarlaktır alternate hipotezini oluştuabiliriz.\n",
    "\n",
    "Gerçek dünya problemini nasıl hypothesis'e dönüştürdüğümüze bakalım.\n",
    "\n",
    "    İlk önce bir null hypothesis oluşturuyoruz, başlangıçta bu null hypothesis doğru (true) olarak kabul ediyoruz ve sonra \n",
    "\n",
    "    çürütmeye(reject) çalışıyoruz. Eğer data null hypothesis'i reject ederse alternative hypothesis'ler oluşturmaya başlıyoruz.\n",
    "    \n",
    "    Örnek:\n",
    "\n",
    "    Null hypothesis \"Ankara'da insanların boy ortalaması 2 metre\" olsun.\n",
    "\n",
    "    Null hypothesis: average height = 2 m\n",
    "\n",
    "    Alternate hypothesis \"Ankara'da insanların boy ortalaması 2 metre değil\"\n",
    "\n",
    "    Alternate hypothesis: average height != 2 m\n",
    "\n",
    "    Başlangıçta null hypothesis doğru olarak kabul ediyoruz demiştik. Şimdi ilk önce verimizi topluyoruz.\n",
    "\n",
    "    Sonra test istatistiklerini (test statistic = z value) kullanarak p-value'yu buluyoruz.\n",
    "\n",
    "    p-value'yu 0.05 ile karşılaştırıyoruz. 0.05 = level of significance\n",
    "\n",
    "    Eğer p-value < 0.05(level of significance) (confidence level 95%)\n",
    "\n",
    "    Null hypothesis'i reject ediyoruz, yani reddediyoruz. If p-value is low, we conclude that null hypothesis is unlikely to be true\n",
    "\n",
    "    Eğer p-value > 0.05(level of significance) fail to reject ediyoruz. Yani reddedemiyoruz."
   ]
  },
  {
   "cell_type": "markdown",
   "id": "546024d9",
   "metadata": {},
   "source": [
    "### Hypothesis Testing Real-World Örneği\n",
    "\n",
    "Datamız ile lgili bir örnek yapalım:\n",
    "\n",
    "Null hypothesis = relationship between radius_mean and area_mean is zero in tumor population.\n",
    "\n",
    "Alternate hypothesis = relationship between radius_mean and area_mean is not zero in tumor population.\n",
    "\n",
    "lets find p-value (probability value)"
   ]
  },
  {
   "cell_type": "code",
   "execution_count": 6,
   "id": "c0e97741",
   "metadata": {},
   "outputs": [],
   "source": [
    "import pandas as pd\n",
    "from scipy import stats\n",
    "\n",
    "data = pd.read_csv(\"data.csv\")"
   ]
  },
  {
   "cell_type": "code",
   "execution_count": 7,
   "id": "fc072e3f",
   "metadata": {},
   "outputs": [
    {
     "name": "stdout",
     "output_type": "stream",
     "text": [
      "p-value:  1.5253492492559045e-184\n"
     ]
    }
   ],
   "source": [
    "statistic, p_value = stats.ttest_rel(data.radius_mean,data.area_mean)\n",
    "print('p-value: ',p_value)"
   ]
  },
  {
   "cell_type": "markdown",
   "id": "8ec19225",
   "metadata": {},
   "source": [
    "P values sıfır bu nedenle reject null hypothesis.\n",
    "\n",
    "Null hypothesis = \"relationship between radius mean and area mean is zero in tumor population\" reddedildi. Alternate hypothesis doğrudur.\n",
    "\n",
    "Alternate hypothesis = relationship between radius_mean and area_mean is not zero in tumor population"
   ]
  },
  {
   "cell_type": "markdown",
   "id": "551f5915",
   "metadata": {},
   "source": [
    "### Type 1 ve Type 2 Errors\n",
    "\n",
    "tip 1 ve tip 2 hatalarıdır.\n",
    "\n",
    "<br>\n",
    "<img src=\"p3.png\" align = \"left\" style=\"width:900px;height:500px\"/>"
   ]
  },
  {
   "cell_type": "markdown",
   "id": "edb9f416",
   "metadata": {},
   "source": [
    "Null hypothesis, reject edilebiliyordu yani reddedilebiliyordu, ya da fail to reject yani reddedilemiyordu. Null hypothesis, gerçekte doğru olabiliyordu ya da yanlış olabiliyordu.\n",
    "\n",
    "Mesela \"dünya düzdür\" şeklinde bir Null Hypothesis belirleyelim. Bunu reject ettiğimizde \"dünya düz değildir\" şeklinde reddetmiş oluyoruz ve bu durumda \"dünya yuvarlaktır\" kabul edilmiş oluyor. \n",
    "\n",
    "Null hypothesis'i reddedeceğiz. Fakat Null hypothesis gerçekte doğru ise bu Type1 (false positive) error'dur.\n",
    "\n",
    "Null hypothesis'i reddetmiyoruz. Fakat Null hypothesis gerçekte yanlış ise bu Type2 (false negative) error'dur.\n",
    "\n",
    "### T-Distribution\n",
    "\n",
    "Student's T-Distribution da denir.\n",
    "\n",
    "Ortalama değerleri aynı olan dağılımlar aslında variance açısından farklılık gösterebilir.\n",
    "\n",
    "<br>\n",
    "<img src=\"p4.png\" align = \"left\" style=\"width:900px;height:900px\"/>"
   ]
  },
  {
   "cell_type": "markdown",
   "id": "df7b815c",
   "metadata": {},
   "source": [
    "İlk görselde üst kısımdaki ile alt kısımdaki grafikler aynı görünmektedir. Statistical significant açısından bu iki dağılım arasında bir farklılık olup olmadığını T-Distribution ile öğrenelim.\n",
    "\n",
    "İkinci görselde formül bulunmaktadır."
   ]
  },
  {
   "cell_type": "code",
   "execution_count": 8,
   "id": "a5d79f9c",
   "metadata": {},
   "outputs": [
    {
     "name": "stdout",
     "output_type": "stream",
     "text": [
      "mean 1:  14.879005879375\n",
      "standart deviation 1:  0.4106367159180011\n",
      "variance 1:  0.16862251245992116\n",
      "mean 2:  15.17467023375\n",
      "standart deviation 2:  0.29561498265957253\n",
      "variance 2:  0.08738821797281937\n"
     ]
    },
    {
     "data": {
      "image/png": "[encoded data removed]",
      "text/plain": [
       "<Figure size 640x480 with 1 Axes>"
      ]
     },
     "metadata": {},
     "output_type": "display_data"
    }
   ],
   "source": [
    "s1 = np.array([14.67230258, 14.5984991 , 14.99997003, 14.83541808, 15.42533116,\n",
    "       15.42023888, 15.0614731 , 14.43906856, 15.40888636, 14.87811941,\n",
    "       14.93932134, 15.04271942, 14.96311939, 14.0379782 , 14.10980817,\n",
    "       15.23184029])\n",
    "print(\"mean 1: \", np.mean(s1))\n",
    "print(\"standart deviation 1: \", np.std(s1))\n",
    "print(\"variance 1: \", np.var(s1))\n",
    "s2 = np.array([15.23658167, 15.30058977, 15.49836851, 15.03712277, 14.72393502,\n",
    "       14.97462198, 15.0381114 , 15.18667258, 15.5914418 , 15.44854406,\n",
    "       15.54645152, 14.89288726, 15.36069141, 15.18758271, 14.48270754,\n",
    "       15.28841374])\n",
    "print(\"mean 2: \", np.mean(s2))\n",
    "print(\"standart deviation 2: \", np.std(s2))\n",
    "print(\"variance 2: \", np.var(s2))\n",
    "# visualize with pdf\n",
    "import seaborn as sns\n",
    "sns.kdeplot(s1)\n",
    "sns.kdeplot(s2)\n",
    "plt.show()"
   ]
  },
  {
   "cell_type": "code",
   "execution_count": 9,
   "id": "0adc96a3",
   "metadata": {},
   "outputs": [
    {
     "name": "stdout",
     "output_type": "stream",
     "text": [
      "t-value:  2.3373829708002227\n"
     ]
    }
   ],
   "source": [
    "t_val = np.abs(np.mean(s1)-np.mean(s2))/np.sqrt((np.var(s1)/len(s1))+(np.var(s2)/len(s2)))\n",
    "print(\"t-value: \", t_val)"
   ]
  },
  {
   "cell_type": "markdown",
   "id": "dd72e132",
   "metadata": {},
   "source": [
    "Şimdi null hypothesis belirleyelim.\n",
    "\n",
    "Null hypothesis: bu iki distribution arasında statistical significance açısından fark yoktur.\n",
    "\n",
    "Yani Null hypothesis, bu iki grafiğin aynı olduğunu söylüyor.\n",
    "\n",
    "Eğer t value critical value dan küçük ise null hypothesis'i fail to reject edilir. Yani reddedilmiyor, doğrudur deniyor.\n",
    "\n",
    "Eğer t value critical value dan büyük ise null hypothesis'i reject edilir. Yani reddedilir.\n",
    "\n",
    "<br>\n",
    "<img src=\"p5.png\" align = \"left\" style=\"width:400px;height:400px\"/>"
   ]
  },
  {
   "cell_type": "markdown",
   "id": "b43ff517",
   "metadata": {},
   "source": [
    "critical value için yukarıda gördüğünüz t table'a bakalım.\n",
    "\n",
    "0.05: 100 kere yaparsak null hypothesis 95 kere reject edilecektir.\n",
    "\n",
    "degrees of freedom: N1+N2-2\n",
    "\n",
    "2.3 > 2.04 bu nedenle reject null hypothesis'dir.\n",
    "\n",
    "### A/B Test\n",
    "\n",
    "A/B Test, A ve B diye iki farklı içeriğe sahip model için yaratılır.\n",
    "\n",
    "A/B Test genellikle internet siteleri için kullanılır.\n",
    "\n",
    "A ve B içerikleri farklı kullanıcılara sunulur.\n",
    "\n",
    "Kullanıcılardan alınan geri bildirime göre A/B içeriklerinin başarımı elde edilir.\n",
    "\n",
    "Mesela sadece arayüzleri farklı iki siteyi farklı insanlara sunalım. Mesela birisine %68 kişi tıklamış olsun, diğerine %32 kişi tıklamış olsun. Ve elde edilen bu başarımlara göre durum değerlendiriliyor."
   ]
  }
 ],
 "metadata": {
  "kernelspec": {
   "display_name": "Python 3 (ipykernel)",
   "language": "python",
   "name": "python3"
  },
  "language_info": {
   "codemirror_mode": {
    "name": "ipython",
    "version": 3
   },
   "file_extension": ".py",
   "mimetype": "text/x-python",
   "name": "python",
   "nbconvert_exporter": "python",
   "pygments_lexer": "ipython3",
   "version": "3.9.12"
  }
 },
 "nbformat": 4,
 "nbformat_minor": 5
}
